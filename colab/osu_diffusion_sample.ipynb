{
  "cells": [
    {
      "cell_type": "markdown",
      "source": [
        "# Beatmap Style Transfer with osu-diffusion\n",
        "\n",
        "This notebook is an interactive demo of an osu! beatmap generation model created by OliBomby. This model is only capable of generating hit object coordinates from a given rhythm, spacing, and style. You can upload a beatmap and have the model automatically remap it into any style available.\n",
        "\n",
        "### Instructions for running:\n",
        "\n",
        "* Make sure to use a GPU runtime, click:  __Runtime >> Change Runtime Type >> GPU__\n",
        "* Press ▶️ on the left of each cell to execute the cell\n",
        "* In the __Choose a Style__ cell, choose a style to map the beatmap in and the desired number of sampling steps\n",
        "* In the __Upload Beatmap__ cell, choose a .osu file from your computer when prompted\n",
        "* Remap the beatmap using the __Convert beatmap__ cell (it may take a few minutes depending on the length of the beatmap and the number of sampling steps)"
      ],
      "metadata": {
        "id": "a-CBg2W0RU5O"
      }
    },
    {
      "cell_type": "code",
      "execution_count": 1,
      "metadata": {
        "id": "i4Gg0uuZCXCn",
        "colab": {
          "base_uri": "https://localhost:8080/"
        },
        "outputId": "4265ca82-7fa5-42c2-ca8b-7b23ec3c4d6e",
        "cellView": "form"
      },
      "outputs": [
        {
          "output_type": "stream",
          "name": "stdout",
          "text": [
            "Cloning into 'osu-diffusion'...\n",
            "remote: Enumerating objects: 589, done.\u001b[K\n",
            "remote: Counting objects: 100% (34/34), done.\u001b[K\n",
            "remote: Compressing objects: 100% (9/9), done.\u001b[K\n",
            "remote: Total 589 (delta 27), reused 27 (delta 25), pack-reused 555\u001b[K\n",
            "Receiving objects: 100% (589/589), 692.81 KiB | 24.74 MiB/s, done.\n",
            "Resolving deltas: 100% (376/376), done.\n",
            "/content/osu-diffusion\n",
            "Collecting slider\n",
            "  Downloading slider-0.8.0-py3-none-any.whl (60 kB)\n",
            "\u001b[2K     \u001b[90m━━━━━━━━━━━━━━━━━━━━━━━━━━━━━━━━━━━━━━━━\u001b[0m \u001b[32m60.5/60.5 kB\u001b[0m \u001b[31m2.1 MB/s\u001b[0m eta \u001b[36m0:00:00\u001b[0m\n",
            "\u001b[?25hRequirement already satisfied: numpy in /usr/local/lib/python3.10/dist-packages (from slider) (1.23.5)\n",
            "Requirement already satisfied: requests in /usr/local/lib/python3.10/dist-packages (from slider) (2.31.0)\n",
            "Requirement already satisfied: scipy in /usr/local/lib/python3.10/dist-packages (from slider) (1.11.4)\n",
            "Requirement already satisfied: charset-normalizer<4,>=2 in /usr/local/lib/python3.10/dist-packages (from requests->slider) (3.3.2)\n",
            "Requirement already satisfied: idna<4,>=2.5 in /usr/local/lib/python3.10/dist-packages (from requests->slider) (3.6)\n",
            "Requirement already satisfied: urllib3<3,>=1.21.1 in /usr/local/lib/python3.10/dist-packages (from requests->slider) (2.0.7)\n",
            "Requirement already satisfied: certifi>=2017.4.17 in /usr/local/lib/python3.10/dist-packages (from requests->slider) (2023.11.17)\n",
            "Installing collected packages: slider\n",
            "Successfully installed slider-0.8.0\n",
            "Downloading...\n",
            "From: https://drive.google.com/uc?id=1oX8SPNnyswhaI8euWRkJ10tmncxaGsBG\n",
            "To: /content/osu-diffusion/DiT-B-0700000.pt\n",
            "100% 2.73G/2.73G [00:29<00:00, 93.3MB/s]\n"
          ]
        }
      ],
      "source": [
        "#@title Setup Environment\n",
        "#@markdown Install osu-diffusion and download the model (may take a few minutes).\n",
        "\n",
        "!git clone https://github.com/OliBomby/osu-diffusion\n",
        "%cd osu-diffusion\n",
        "\n",
        "!pip install slider\n",
        "\n",
        "from google.colab import files\n",
        "\n",
        "import os\n",
        "import re\n",
        "from slider import Beatmap\n",
        "from data_loading import beatmap_to_sequence, split_and_process_sequence, get_beatmap_idx\n",
        "\n",
        "\n",
        "!gdown 1oX8SPNnyswhaI8euWRkJ10tmncxaGsBG"
      ]
    },
    {
      "cell_type": "code",
      "source": [
        "#@title Upload Beatmap\n",
        "\n",
        "def upload_beatmap():\n",
        "  data = list(files.upload().keys())\n",
        "  if len(data) > 1:\n",
        "    print('Multiple files uploaded; using only one.')\n",
        "  return data[0]\n",
        "\n",
        "input_beatmap = upload_beatmap()"
      ],
      "metadata": {
        "colab": {
          "base_uri": "https://localhost:8080/",
          "height": 93
        },
        "cellView": "form",
        "id": "OwC4ok_PU93_",
        "outputId": "75017e3e-ef6c-4463-c369-09e463ffc652"
      },
      "execution_count": 2,
      "outputs": [
        {
          "output_type": "display_data",
          "data": {
            "text/plain": [
              "<IPython.core.display.HTML object>"
            ],
            "text/html": [
              "\n",
              "     <input type=\"file\" id=\"files-dbd78031-0c89-4a51-ab97-fad4a789fa1e\" name=\"files[]\" multiple disabled\n",
              "        style=\"border:none\" />\n",
              "     <output id=\"result-dbd78031-0c89-4a51-ab97-fad4a789fa1e\">\n",
              "      Upload widget is only available when the cell has been executed in the\n",
              "      current browser session. Please rerun this cell to enable.\n",
              "      </output>\n",
              "      <script>// Copyright 2017 Google LLC\n",
              "//\n",
              "// Licensed under the Apache License, Version 2.0 (the \"License\");\n",
              "// you may not use this file except in compliance with the License.\n",
              "// You may obtain a copy of the License at\n",
              "//\n",
              "//      http://www.apache.org/licenses/LICENSE-2.0\n",
              "//\n",
              "// Unless required by applicable law or agreed to in writing, software\n",
              "// distributed under the License is distributed on an \"AS IS\" BASIS,\n",
              "// WITHOUT WARRANTIES OR CONDITIONS OF ANY KIND, either express or implied.\n",
              "// See the License for the specific language governing permissions and\n",
              "// limitations under the License.\n",
              "\n",
              "/**\n",
              " * @fileoverview Helpers for google.colab Python module.\n",
              " */\n",
              "(function(scope) {\n",
              "function span(text, styleAttributes = {}) {\n",
              "  const element = document.createElement('span');\n",
              "  element.textContent = text;\n",
              "  for (const key of Object.keys(styleAttributes)) {\n",
              "    element.style[key] = styleAttributes[key];\n",
              "  }\n",
              "  return element;\n",
              "}\n",
              "\n",
              "// Max number of bytes which will be uploaded at a time.\n",
              "const MAX_PAYLOAD_SIZE = 100 * 1024;\n",
              "\n",
              "function _uploadFiles(inputId, outputId) {\n",
              "  const steps = uploadFilesStep(inputId, outputId);\n",
              "  const outputElement = document.getElementById(outputId);\n",
              "  // Cache steps on the outputElement to make it available for the next call\n",
              "  // to uploadFilesContinue from Python.\n",
              "  outputElement.steps = steps;\n",
              "\n",
              "  return _uploadFilesContinue(outputId);\n",
              "}\n",
              "\n",
              "// This is roughly an async generator (not supported in the browser yet),\n",
              "// where there are multiple asynchronous steps and the Python side is going\n",
              "// to poll for completion of each step.\n",
              "// This uses a Promise to block the python side on completion of each step,\n",
              "// then passes the result of the previous step as the input to the next step.\n",
              "function _uploadFilesContinue(outputId) {\n",
              "  const outputElement = document.getElementById(outputId);\n",
              "  const steps = outputElement.steps;\n",
              "\n",
              "  const next = steps.next(outputElement.lastPromiseValue);\n",
              "  return Promise.resolve(next.value.promise).then((value) => {\n",
              "    // Cache the last promise value to make it available to the next\n",
              "    // step of the generator.\n",
              "    outputElement.lastPromiseValue = value;\n",
              "    return next.value.response;\n",
              "  });\n",
              "}\n",
              "\n",
              "/**\n",
              " * Generator function which is called between each async step of the upload\n",
              " * process.\n",
              " * @param {string} inputId Element ID of the input file picker element.\n",
              " * @param {string} outputId Element ID of the output display.\n",
              " * @return {!Iterable<!Object>} Iterable of next steps.\n",
              " */\n",
              "function* uploadFilesStep(inputId, outputId) {\n",
              "  const inputElement = document.getElementById(inputId);\n",
              "  inputElement.disabled = false;\n",
              "\n",
              "  const outputElement = document.getElementById(outputId);\n",
              "  outputElement.innerHTML = '';\n",
              "\n",
              "  const pickedPromise = new Promise((resolve) => {\n",
              "    inputElement.addEventListener('change', (e) => {\n",
              "      resolve(e.target.files);\n",
              "    });\n",
              "  });\n",
              "\n",
              "  const cancel = document.createElement('button');\n",
              "  inputElement.parentElement.appendChild(cancel);\n",
              "  cancel.textContent = 'Cancel upload';\n",
              "  const cancelPromise = new Promise((resolve) => {\n",
              "    cancel.onclick = () => {\n",
              "      resolve(null);\n",
              "    };\n",
              "  });\n",
              "\n",
              "  // Wait for the user to pick the files.\n",
              "  const files = yield {\n",
              "    promise: Promise.race([pickedPromise, cancelPromise]),\n",
              "    response: {\n",
              "      action: 'starting',\n",
              "    }\n",
              "  };\n",
              "\n",
              "  cancel.remove();\n",
              "\n",
              "  // Disable the input element since further picks are not allowed.\n",
              "  inputElement.disabled = true;\n",
              "\n",
              "  if (!files) {\n",
              "    return {\n",
              "      response: {\n",
              "        action: 'complete',\n",
              "      }\n",
              "    };\n",
              "  }\n",
              "\n",
              "  for (const file of files) {\n",
              "    const li = document.createElement('li');\n",
              "    li.append(span(file.name, {fontWeight: 'bold'}));\n",
              "    li.append(span(\n",
              "        `(${file.type || 'n/a'}) - ${file.size} bytes, ` +\n",
              "        `last modified: ${\n",
              "            file.lastModifiedDate ? file.lastModifiedDate.toLocaleDateString() :\n",
              "                                    'n/a'} - `));\n",
              "    const percent = span('0% done');\n",
              "    li.appendChild(percent);\n",
              "\n",
              "    outputElement.appendChild(li);\n",
              "\n",
              "    const fileDataPromise = new Promise((resolve) => {\n",
              "      const reader = new FileReader();\n",
              "      reader.onload = (e) => {\n",
              "        resolve(e.target.result);\n",
              "      };\n",
              "      reader.readAsArrayBuffer(file);\n",
              "    });\n",
              "    // Wait for the data to be ready.\n",
              "    let fileData = yield {\n",
              "      promise: fileDataPromise,\n",
              "      response: {\n",
              "        action: 'continue',\n",
              "      }\n",
              "    };\n",
              "\n",
              "    // Use a chunked sending to avoid message size limits. See b/62115660.\n",
              "    let position = 0;\n",
              "    do {\n",
              "      const length = Math.min(fileData.byteLength - position, MAX_PAYLOAD_SIZE);\n",
              "      const chunk = new Uint8Array(fileData, position, length);\n",
              "      position += length;\n",
              "\n",
              "      const base64 = btoa(String.fromCharCode.apply(null, chunk));\n",
              "      yield {\n",
              "        response: {\n",
              "          action: 'append',\n",
              "          file: file.name,\n",
              "          data: base64,\n",
              "        },\n",
              "      };\n",
              "\n",
              "      let percentDone = fileData.byteLength === 0 ?\n",
              "          100 :\n",
              "          Math.round((position / fileData.byteLength) * 100);\n",
              "      percent.textContent = `${percentDone}% done`;\n",
              "\n",
              "    } while (position < fileData.byteLength);\n",
              "  }\n",
              "\n",
              "  // All done.\n",
              "  yield {\n",
              "    response: {\n",
              "      action: 'complete',\n",
              "    }\n",
              "  };\n",
              "}\n",
              "\n",
              "scope.google = scope.google || {};\n",
              "scope.google.colab = scope.google.colab || {};\n",
              "scope.google.colab._files = {\n",
              "  _uploadFiles,\n",
              "  _uploadFilesContinue,\n",
              "};\n",
              "})(self);\n",
              "</script> "
            ]
          },
          "metadata": {}
        },
        {
          "output_type": "stream",
          "name": "stdout",
          "text": [
            "Saving Chogakusei - Kemono ni Naritai! (Kroytz) [Mindmaster wants to be a HARDER Kemono].osu to Chogakusei - Kemono ni Naritai! (Kroytz) [Mindmaster wants to be a HARDER Kemono].osu\n"
          ]
        }
      ]
    },
    {
      "cell_type": "code",
      "source": [
        "#@title Choose a Style\n",
        "\n",
        "style_id = None\n",
        "\n",
        "STYLE = \"None\" #@param[\"None\", \"Cheri\", \"Monstrata\", \"Sotarks\", \"wafer\", \"Nevo\", \"ScubDomino\", \"Night Mare\", \"Other\"]\n",
        "STYLE_TO_ID = {\n",
        "    \"None\": None,\n",
        "    \"Cheri\": 2592760,\n",
        "    \"Monstrata\": 1451282,\n",
        "    \"Sotarks\": 1995061,\n",
        "    \"wafer\": 3697057,\n",
        "    \"Nevo\": 2799753,\n",
        "    \"ScubDomino\": 1772923,\n",
        "    \"Night Mare\": 1907310,\n",
        "}\n",
        "\n",
        "if STYLE == \"Other\":\n",
        "    style_id = int(input(\"Please type the Beatmap ID of the beatmap you want the style of: \"))\n",
        "    beatmap_idx = get_beatmap_idx(\"beatmap_idx.pickle\")\n",
        "    if style_id not in beatmap_idx:\n",
        "        print(\"This beatmap style does not exist in the model. Try choosing a ranked osu! std beatmap from before 2023.\")\n",
        "    else:\n",
        "        print(\"Good choice!\")\n",
        "else:\n",
        "    style_id = STYLE_TO_ID[STYLE]\n",
        "    print(f\"Chosen style: {STYLE}\")\n",
        "\n",
        "NUM_SAMPLING_STEPS = \"1000\" #@param[250, 1000]\n",
        "print(f\"Chosen step count: {NUM_SAMPLING_STEPS}\")\n"
      ],
      "metadata": {
        "colab": {
          "base_uri": "https://localhost:8080/"
        },
        "cellView": "form",
        "id": "oMR2LykHenNQ",
        "outputId": "41182d99-c8d2-4e82-8814-346c67749d89"
      },
      "execution_count": 17,
      "outputs": [
        {
          "output_type": "stream",
          "name": "stdout",
          "text": [
            "Chosen style: Monstrata\n",
            "Chosen step count: 1000\n"
          ]
        }
      ]
    },
    {
      "cell_type": "code",
      "source": [
        "#@title Convert Beatmap\n",
        "#@markdown This may take a few minutes depending on the length of the beatmap\n",
        "#@markdown file you uploaded and the number of sampling steps.\n",
        "\n",
        "beatmap = Beatmap.from_path(input_beatmap)\n",
        "seq_no_embed = beatmap_to_sequence(beatmap)\n",
        "(seq_x, seq_o, seq_c), seq_len = split_and_process_sequence(seq_no_embed)\n",
        "\n",
        "CLEAN_FILENAME_RX = re.compile(r\"[/\\\\?%*:|\\\"<>\\x7F\\x00-\\x1F]\")\n",
        "filename = f\"{beatmap.beatmap_id} {beatmap.artist} - {beatmap.title}\"\n",
        "filename = CLEAN_FILENAME_RX.sub(\"-\", filename)\n",
        "result_dir = os.path.join(\n",
        "    \"results\",\n",
        "    filename,\n",
        "    f\"{beatmap.beatmap_id} result {style_id} {seq_len - 1}.osu\",\n",
        ")\n",
        "\n",
        "!python sample.py --beatmap \"{input_beatmap}\" --ckpt \"DiT-B-0700000.pt\" --style-id {style_id} --num-sampling-steps {NUM_SAMPLING_STEPS}\n",
        "\n",
        "print(f\"Beatmap successfully saved to {result_dir}\")\n"
      ],
      "metadata": {
        "colab": {
          "base_uri": "https://localhost:8080/"
        },
        "id": "j2chRaJ6s5Kl",
        "outputId": "68168f68-8fbc-41e1-a1bc-db4eb12208cb",
        "cellView": "form"
      },
      "execution_count": 18,
      "outputs": [
        {
          "output_type": "stream",
          "name": "stdout",
          "text": [
            "seq len 1178\n",
            "100% 1000/1000 [04:05<00:00,  4.07it/s]\n",
            "Beatmap successfully saved to results/3671513 Chogakusei - Kemono ni Naritai!/3671513 result 1451282 1177.osu\n"
          ]
        }
      ]
    },
    {
      "cell_type": "code",
      "source": [
        "#@title Download Converted Beatmap\n",
        "\n",
        "\n",
        "files.download(result_dir)"
      ],
      "metadata": {
        "colab": {
          "base_uri": "https://localhost:8080/",
          "height": 17
        },
        "cellView": "form",
        "id": "hdFwZPplWgQx",
        "outputId": "936c88bc-2eba-4d1a-8762-8c3f86f56ffe"
      },
      "execution_count": 19,
      "outputs": [
        {
          "output_type": "display_data",
          "data": {
            "text/plain": [
              "<IPython.core.display.Javascript object>"
            ],
            "application/javascript": [
              "\n",
              "    async function download(id, filename, size) {\n",
              "      if (!google.colab.kernel.accessAllowed) {\n",
              "        return;\n",
              "      }\n",
              "      const div = document.createElement('div');\n",
              "      const label = document.createElement('label');\n",
              "      label.textContent = `Downloading \"${filename}\": `;\n",
              "      div.appendChild(label);\n",
              "      const progress = document.createElement('progress');\n",
              "      progress.max = size;\n",
              "      div.appendChild(progress);\n",
              "      document.body.appendChild(div);\n",
              "\n",
              "      const buffers = [];\n",
              "      let downloaded = 0;\n",
              "\n",
              "      const channel = await google.colab.kernel.comms.open(id);\n",
              "      // Send a message to notify the kernel that we're ready.\n",
              "      channel.send({})\n",
              "\n",
              "      for await (const message of channel.messages) {\n",
              "        // Send a message to notify the kernel that we're ready.\n",
              "        channel.send({})\n",
              "        if (message.buffers) {\n",
              "          for (const buffer of message.buffers) {\n",
              "            buffers.push(buffer);\n",
              "            downloaded += buffer.byteLength;\n",
              "            progress.value = downloaded;\n",
              "          }\n",
              "        }\n",
              "      }\n",
              "      const blob = new Blob(buffers, {type: 'application/binary'});\n",
              "      const a = document.createElement('a');\n",
              "      a.href = window.URL.createObjectURL(blob);\n",
              "      a.download = filename;\n",
              "      div.appendChild(a);\n",
              "      a.click();\n",
              "      div.remove();\n",
              "    }\n",
              "  "
            ]
          },
          "metadata": {}
        },
        {
          "output_type": "display_data",
          "data": {
            "text/plain": [
              "<IPython.core.display.Javascript object>"
            ],
            "application/javascript": [
              "download(\"download_ec952277-b7de-477f-9370-882e5193e4d5\", \"3671513 result 1451282 1177.osu\", 35395)"
            ]
          },
          "metadata": {}
        }
      ]
    }
  ],
  "metadata": {
    "colab": {
      "provenance": [],
      "gpuType": "T4"
    },
    "kernelspec": {
      "display_name": "Python 3",
      "name": "python3"
    },
    "language_info": {
      "name": "python"
    },
    "accelerator": "GPU"
  },
  "nbformat": 4,
  "nbformat_minor": 0
}